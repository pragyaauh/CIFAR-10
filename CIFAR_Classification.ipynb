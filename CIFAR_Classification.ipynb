{
 "cells": [
  {
   "cell_type": "code",
   "execution_count": 1,
   "metadata": {},
   "outputs": [],
   "source": [
    "import torch\n",
    "import torch.nn as nn\n",
    "import torch.nn.functional as F\n",
    "import torchvision\n",
    "import torchvision.transforms as transforms\n",
    "import numpy as np\n",
    "import matplotlib.pyplot as plt\n",
    "from datetime import datetime"
   ]
  },
  {
   "cell_type": "code",
   "execution_count": 2,
   "metadata": {},
   "outputs": [
    {
     "name": "stdout",
     "output_type": "stream",
     "text": [
      "Downloading https://www.cs.toronto.edu/~kriz/cifar-10-python.tar.gz to ./cifar-10-python.tar.gz\n"
     ]
    },
    {
     "data": {
      "application/vnd.jupyter.widget-view+json": {
       "model_id": "be25aeeb27154bafba5455486e71ee8e",
       "version_major": 2,
       "version_minor": 0
      },
      "text/plain": [
       "HBox(children=(HTML(value=''), FloatProgress(value=1.0, bar_style='info', layout=Layout(width='20px'), max=1.0…"
      ]
     },
     "metadata": {},
     "output_type": "display_data"
    },
    {
     "name": "stdout",
     "output_type": "stream",
     "text": [
      "Extracting ./cifar-10-python.tar.gz to .\n",
      "Files already downloaded and verified\n"
     ]
    }
   ],
   "source": [
    "train_dataset = torchvision.datasets.CIFAR10(\n",
    "    root='.',\n",
    "    train=True,\n",
    "    transform=transforms.ToTensor(),\n",
    "    download=True)\n",
    "test_dataset = torchvision.datasets.CIFAR10(\n",
    "    root='.',\n",
    "    train=False,\n",
    "    transform=transforms.ToTensor(),\n",
    "    download=True)"
   ]
  },
  {
   "cell_type": "code",
   "execution_count": 3,
   "metadata": {},
   "outputs": [
    {
     "name": "stdout",
     "output_type": "stream",
     "text": [
      "number of classes: 10\n"
     ]
    }
   ],
   "source": [
    "K = len(set(train_dataset.targets))\n",
    "print(\"number of classes:\", K)"
   ]
  },
  {
   "cell_type": "code",
   "execution_count": 4,
   "metadata": {},
   "outputs": [],
   "source": [
    "# Data loader\n",
    "# Useful because it automatically generates batches in the training loop\n",
    "# and takes care of shuffling\n",
    "\n",
    "batch_size = 128\n",
    "train_loader = torch.utils.data.DataLoader(dataset=train_dataset, \n",
    "                                           batch_size=batch_size, \n",
    "                                           shuffle=True)\n",
    "\n",
    "test_loader = torch.utils.data.DataLoader(dataset=test_dataset, \n",
    "                                          batch_size=batch_size, \n",
    "                                          shuffle=False)"
   ]
  },
  {
   "cell_type": "code",
   "execution_count": 5,
   "metadata": {},
   "outputs": [],
   "source": [
    "tmp_loader = torch.utils.data.DataLoader(dataset=train_dataset, \n",
    "                                           batch_size=1, \n",
    "                                           shuffle=True)"
   ]
  },
  {
   "cell_type": "code",
   "execution_count": 6,
   "metadata": {},
   "outputs": [
    {
     "name": "stdout",
     "output_type": "stream",
     "text": [
      "tensor([[[[0.3725, 0.3608, 0.1882,  ..., 0.2392, 0.2392, 0.2745],\n",
      "          [0.3725, 0.3333, 0.1333,  ..., 0.2549, 0.2118, 0.2588],\n",
      "          [0.2392, 0.2157, 0.1412,  ..., 0.3137, 0.2588, 0.2431],\n",
      "          ...,\n",
      "          [0.6824, 0.7020, 0.7216,  ..., 0.4000, 0.5608, 0.6118],\n",
      "          [0.6745, 0.6941, 0.7176,  ..., 0.6706, 0.6980, 0.7216],\n",
      "          [0.6588, 0.6745, 0.6980,  ..., 0.7569, 0.7216, 0.6941]],\n",
      "\n",
      "         [[0.4039, 0.3882, 0.2078,  ..., 0.2824, 0.2863, 0.3098],\n",
      "          [0.4039, 0.3608, 0.1529,  ..., 0.2980, 0.2549, 0.2941],\n",
      "          [0.2706, 0.2471, 0.1647,  ..., 0.3490, 0.2941, 0.2784],\n",
      "          ...,\n",
      "          [0.7020, 0.7216, 0.7412,  ..., 0.4157, 0.5765, 0.6275],\n",
      "          [0.6941, 0.7137, 0.7373,  ..., 0.6824, 0.7098, 0.7333],\n",
      "          [0.6745, 0.6941, 0.7176,  ..., 0.7647, 0.7333, 0.7020]],\n",
      "\n",
      "         [[0.4784, 0.4392, 0.2353,  ..., 0.3294, 0.3529, 0.3804],\n",
      "          [0.4706, 0.4118, 0.1765,  ..., 0.3373, 0.3098, 0.3529],\n",
      "          [0.3176, 0.2863, 0.1961,  ..., 0.3882, 0.3412, 0.3216],\n",
      "          ...,\n",
      "          [0.7804, 0.8000, 0.8196,  ..., 0.4784, 0.6392, 0.6941],\n",
      "          [0.7765, 0.7961, 0.8235,  ..., 0.7412, 0.7725, 0.8000],\n",
      "          [0.7529, 0.7725, 0.8000,  ..., 0.8235, 0.7961, 0.7608]]]])\n",
      "torch.Size([1, 3, 32, 32])\n"
     ]
    }
   ],
   "source": [
    "for x, y in tmp_loader:\n",
    "  print(x)\n",
    "  print(x.shape)\n",
    "  break"
   ]
  },
  {
   "cell_type": "code",
   "execution_count": 7,
   "metadata": {},
   "outputs": [],
   "source": [
    "# Define the model\n",
    "class CNN(nn.Module):\n",
    "  def __init__(self, K):\n",
    "    super(CNN, self).__init__()\n",
    "    \n",
    "    # define the conv layers\n",
    "    self.conv1 = nn.Conv2d(3, 32, kernel_size=3, stride=2)\n",
    "    self.conv2 = nn.Conv2d(32, 64, kernel_size=3, stride=2)\n",
    "    self.conv3 = nn.Conv2d(64, 128, kernel_size=3, stride=2)\n",
    "\n",
    "    # define the linear layers\n",
    "    self.fc1 = nn.Linear(128 * 3 * 3, 1024)\n",
    "    self.fc2 = nn.Linear(1024, K)\n",
    "  \n",
    "  def forward(self, x):\n",
    "    x = F.relu(self.conv1(x))\n",
    "    x = F.relu(self.conv2(x))\n",
    "    x = F.relu(self.conv3(x))\n",
    "    x = x.view(-1, 128 * 3 * 3)\n",
    "    x = F.dropout(x, p=0.5)\n",
    "    x = F.relu(self.fc1(x))\n",
    "    x = F.dropout(x, p=0.2)\n",
    "    x = self.fc2(x)\n",
    "    return x"
   ]
  },
  {
   "cell_type": "code",
   "execution_count": 8,
   "metadata": {},
   "outputs": [],
   "source": [
    "# Instantiate the model\n",
    "model = CNN(K)"
   ]
  },
  {
   "cell_type": "code",
   "execution_count": 9,
   "metadata": {},
   "outputs": [
    {
     "name": "stdout",
     "output_type": "stream",
     "text": [
      "cuda:0\n"
     ]
    },
    {
     "data": {
      "text/plain": [
       "CNN(\n",
       "  (conv1): Conv2d(3, 32, kernel_size=(3, 3), stride=(2, 2))\n",
       "  (conv2): Conv2d(32, 64, kernel_size=(3, 3), stride=(2, 2))\n",
       "  (conv3): Conv2d(64, 128, kernel_size=(3, 3), stride=(2, 2))\n",
       "  (fc1): Linear(in_features=1152, out_features=1024, bias=True)\n",
       "  (fc2): Linear(in_features=1024, out_features=10, bias=True)\n",
       ")"
      ]
     },
     "execution_count": 9,
     "metadata": {},
     "output_type": "execute_result"
    }
   ],
   "source": [
    "device = torch.device(\"cuda:0\" if torch.cuda.is_available() else \"cpu\")\n",
    "print(device)\n",
    "model.to(device)"
   ]
  },
  {
   "cell_type": "code",
   "execution_count": 10,
   "metadata": {},
   "outputs": [],
   "source": [
    "# Loss and optimizer\n",
    "criterion = nn.CrossEntropyLoss()\n",
    "optimizer = torch.optim.Adam(model.parameters())"
   ]
  },
  {
   "cell_type": "code",
   "execution_count": 11,
   "metadata": {},
   "outputs": [],
   "source": [
    "# A function to encapsulate the training loop\n",
    "def batch_gd(model, criterion, optimizer, train_loader, test_loader, epochs):\n",
    "  train_losses = np.zeros(epochs)\n",
    "  test_losses = np.zeros(epochs)\n",
    "\n",
    "  for it in range(epochs):\n",
    "    t0 = datetime.now()\n",
    "    train_loss = []\n",
    "    for inputs, targets in train_loader:\n",
    "      # move data to GPU\n",
    "      inputs, targets = inputs.to(device), targets.to(device)\n",
    "\n",
    "      # zero the parameter gradients\n",
    "      optimizer.zero_grad()\n",
    "\n",
    "      # Forward pass\n",
    "      outputs = model(inputs)\n",
    "      loss = criterion(outputs, targets)\n",
    "        \n",
    "      # Backward and optimize\n",
    "      loss.backward()\n",
    "      optimizer.step()\n",
    "\n",
    "      train_loss.append(loss.item())\n",
    "\n",
    "    # Get train loss and test loss\n",
    "    train_loss = np.mean(train_loss) # a little misleading\n",
    "    \n",
    "    test_loss = []\n",
    "    for inputs, targets in test_loader:\n",
    "      inputs, targets = inputs.to(device), targets.to(device)\n",
    "      outputs = model(inputs)\n",
    "      loss = criterion(outputs, targets)\n",
    "      test_loss.append(loss.item())\n",
    "    test_loss = np.mean(test_loss)\n",
    "\n",
    "    # Save losses\n",
    "    train_losses[it] = train_loss\n",
    "    test_losses[it] = test_loss\n",
    "    \n",
    "    dt = datetime.now() - t0\n",
    "    print(f'Epoch {it+1}/{epochs}, Train Loss: {train_loss:.4f}, \\\n",
    "      Test Loss: {test_loss:.4f}, Duration: {dt}')\n",
    "  \n",
    "  return train_losses, test_losses"
   ]
  },
  {
   "cell_type": "code",
   "execution_count": 12,
   "metadata": {},
   "outputs": [
    {
     "name": "stdout",
     "output_type": "stream",
     "text": [
      "Epoch 1/15, Train Loss: 1.7069,       Test Loss: 1.4756, Duration: 0:00:11.988373\n",
      "Epoch 2/15, Train Loss: 1.4011,       Test Loss: 1.3260, Duration: 0:00:12.017613\n",
      "Epoch 3/15, Train Loss: 1.2826,       Test Loss: 1.2692, Duration: 0:00:12.067681\n",
      "Epoch 4/15, Train Loss: 1.1987,       Test Loss: 1.2633, Duration: 0:00:12.047109\n",
      "Epoch 5/15, Train Loss: 1.1372,       Test Loss: 1.1709, Duration: 0:00:12.102930\n",
      "Epoch 6/15, Train Loss: 1.0875,       Test Loss: 1.1124, Duration: 0:00:11.930004\n",
      "Epoch 7/15, Train Loss: 1.0368,       Test Loss: 1.1178, Duration: 0:00:11.862325\n",
      "Epoch 8/15, Train Loss: 0.9892,       Test Loss: 1.0658, Duration: 0:00:12.049920\n",
      "Epoch 9/15, Train Loss: 0.9562,       Test Loss: 1.0756, Duration: 0:00:12.001439\n",
      "Epoch 10/15, Train Loss: 0.9153,       Test Loss: 1.0426, Duration: 0:00:11.982881\n",
      "Epoch 11/15, Train Loss: 0.8872,       Test Loss: 1.0307, Duration: 0:00:11.979681\n",
      "Epoch 12/15, Train Loss: 0.8593,       Test Loss: 1.0556, Duration: 0:00:12.004155\n",
      "Epoch 13/15, Train Loss: 0.8234,       Test Loss: 1.0290, Duration: 0:00:11.978407\n",
      "Epoch 14/15, Train Loss: 0.8114,       Test Loss: 1.0639, Duration: 0:00:11.927568\n",
      "Epoch 15/15, Train Loss: 0.7862,       Test Loss: 1.0264, Duration: 0:00:11.973356\n"
     ]
    }
   ],
   "source": [
    "train_losses, test_losses = batch_gd(\n",
    "    model, criterion, optimizer, train_loader, test_loader, epochs=15)"
   ]
  },
  {
   "cell_type": "code",
   "execution_count": 18,
   "metadata": {},
   "outputs": [
    {
     "name": "stdout",
     "output_type": "stream",
     "text": [
      "Train acc: 0.7310, Test acc: 0.6381\n"
     ]
    }
   ],
   "source": [
    "#accuracy\n",
    "\n",
    "n_correct=0\n",
    "n_total=0\n",
    "\n",
    "for inputs,targets in train_loader:\n",
    "    inputs,targets=inputs.to(device),targets.to(device)\n",
    "    outputs=model(inputs)\n",
    "    _,predictions=torch.max(outputs,1)\n",
    "    n_correct+=(predictions==targets).sum().item()\n",
    "\n",
    "    n_total+=targets.shape[0]\n",
    "train_acc=n_correct/n_total\n",
    "\n",
    "n_correct = 0.\n",
    "n_total = 0.\n",
    "for inputs, targets in test_loader:\n",
    "  # Move to GPU\n",
    "  inputs, targets = inputs.to(device), targets.to(device)\n",
    "  \n",
    "  # Forward pass\n",
    "  outputs = model(inputs)\n",
    "\n",
    "  # Get prediction\n",
    "  # torch.max returns both max and argmax\n",
    "  _, predictions = torch.max(outputs, 1)\n",
    "  \n",
    "  # update counts\n",
    "  n_correct += (predictions == targets).sum().item()\n",
    "  n_total += targets.shape[0]\n",
    "\n",
    "test_acc = n_correct / n_total\n",
    "print(f\"Train acc: {train_acc:.4f}, Test acc: {test_acc:.4f}\")\n"
   ]
  },
  {
   "cell_type": "code",
   "execution_count": 19,
   "metadata": {},
   "outputs": [],
   "source": [
    "# Confusion matrix\n",
    "from sklearn.metrics import confusion_matrix\n",
    "import itertools\n",
    "\n",
    "def plot_confusion_matrix(cm, classes,\n",
    "                          normalize=False,\n",
    "                          title='Confusion matrix',\n",
    "                          cmap=plt.cm.Blues):\n",
    "  \"\"\"\n",
    "  This function prints and plots the confusion matrix.\n",
    "  Normalization can be applied by setting `normalize=True`.\n",
    "  \"\"\"\n",
    "  if normalize:\n",
    "      cm = cm.astype('float') / cm.sum(axis=1)[:, np.newaxis]\n",
    "      print(\"Normalized confusion matrix\")\n",
    "  else:\n",
    "      print('Confusion matrix, without normalization')\n",
    "\n",
    "  print(cm)\n",
    "\n",
    "  plt.imshow(cm, interpolation='nearest', cmap=cmap)\n",
    "  plt.title(title)\n",
    "  plt.colorbar()\n",
    "  tick_marks = np.arange(len(classes))\n",
    "  plt.xticks(tick_marks, classes, rotation=45)\n",
    "  plt.yticks(tick_marks, classes)\n",
    "\n",
    "  fmt = '.2f' if normalize else 'd'\n",
    "  thresh = cm.max() / 2.\n",
    "  for i, j in itertools.product(range(cm.shape[0]), range(cm.shape[1])):\n",
    "      plt.text(j, i, format(cm[i, j], fmt),\n",
    "               horizontalalignment=\"center\",\n",
    "               color=\"white\" if cm[i, j] > thresh else \"black\")\n",
    "\n",
    "  plt.tight_layout()\n",
    "  plt.ylabel('True label')\n",
    "  plt.xlabel('Predicted label')\n",
    "  plt.show()"
   ]
  },
  {
   "cell_type": "code",
   "execution_count": 20,
   "metadata": {},
   "outputs": [
    {
     "name": "stdout",
     "output_type": "stream",
     "text": [
      "Confusion matrix, without normalization\n",
      "[[631  26  61  18  18  19  21  24 116  66]\n",
      " [ 20 773   9   3   4   4  15  14  33 125]\n",
      " [ 57  11 465  70 133  86  81  61  19  17]\n",
      " [ 15  11  75 394  83 230  86  69  15  22]\n",
      " [ 22   5  64  62 595  62  68 104  11   7]\n",
      " [  6  10  48 136  63 596  28  91  11  11]\n",
      " [  6   9  24  48  57  50 770  15  10  11]\n",
      " [ 12   3  27  36  63  55  13 763   4  24]\n",
      " [ 71  62  20  12   8   7   8  10 756  46]\n",
      " [ 24 120  17  16   5  17  16  21  28 736]]\n"
     ]
    },
    {
     "data": {
      "image/png": "[encoded data removed]",
      "text/plain": [
       "<Figure size 432x288 with 2 Axes>"
      ]
     },
     "metadata": {
      "needs_background": "light"
     },
     "output_type": "display_data"
    }
   ],
   "source": [
    "# get all predictions in an array and plot confusion matrix\n",
    "\n",
    "x_test = test_dataset.data\n",
    "y_test = np.array(test_dataset.targets)\n",
    "p_test = np.array([])\n",
    "for inputs, targets in test_loader:\n",
    "  # Move to GPU\n",
    "  inputs, targets = inputs.to(device), targets.to(device)\n",
    "\n",
    "  # Forward pass\n",
    "  outputs = model(inputs)\n",
    "\n",
    "  # Get prediction\n",
    "  _, predictions = torch.max(outputs, 1)\n",
    "  \n",
    "  # update p_test\n",
    "  p_test = np.concatenate((p_test, predictions.cpu().numpy()))\n",
    "\n",
    "cm = confusion_matrix(y_test, p_test)\n",
    "plot_confusion_matrix(cm, list(range(10)))"
   ]
  },
  {
   "cell_type": "code",
   "execution_count": 22,
   "metadata": {},
   "outputs": [],
   "source": [
    "# label mapping\n",
    "labels = '''airplane\n",
    "automobile\n",
    "bird\n",
    "cat\n",
    "deer\n",
    "dog\n",
    "frog\n",
    "horse\n",
    "ship\n",
    "truck'''.split()"
   ]
  },
  {
   "cell_type": "code",
   "execution_count": 35,
   "metadata": {},
   "outputs": [
    {
     "data": {
      "image/png": "[encoded data removed]",
      "text/plain": [
       "<Figure size 432x288 with 1 Axes>"
      ]
     },
     "metadata": {
      "needs_background": "light"
     },
     "output_type": "display_data"
    }
   ],
   "source": [
    "# Show some misclassified examples\n",
    "p_test = p_test.astype(np.uint8)\n",
    "misclassified_idx = np.where(p_test != y_test)[0]\n",
    "i = np.random.choice(misclassified_idx)\n",
    "plt.imshow(x_test[i].reshape(32,32,3))\n",
    "plt.title(\"True label: %s Predicted: %s\" % (labels[y_test[i]], labels[p_test[i]]));"
   ]
  },
  {
   "cell_type": "code",
   "execution_count": null,
   "metadata": {},
   "outputs": [],
   "source": []
  },
  {
   "cell_type": "code",
   "execution_count": null,
   "metadata": {},
   "outputs": [],
   "source": []
  }
 ],
 "metadata": {
  "kernelspec": {
   "display_name": "Python 3",
   "language": "python",
   "name": "python3"
  },
  "language_info": {
   "codemirror_mode": {
    "name": "ipython",
    "version": 3
   },
   "file_extension": ".py",
   "mimetype": "text/x-python",
   "name": "python",
   "nbconvert_exporter": "python",
   "pygments_lexer": "ipython3",
   "version": "3.8.6"
  }
 },
 "nbformat": 4,
 "nbformat_minor": 4
}
